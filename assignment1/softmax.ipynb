{
 "cells": [
  {
   "cell_type": "markdown",
   "metadata": {
    "tags": [
     "pdf-title"
    ]
   },
   "source": [
    "# Softmax exercise\n",
    "\n",
    "*Complete and hand in this completed worksheet (including its outputs and any supporting code outside of the worksheet) with your assignment submission. For more details see the [assignments page](http://vision.stanford.edu/teaching/cs231n/assignments.html) on the course website.*\n",
    "\n",
    "This exercise is analogous to the SVM exercise. You will:\n",
    "\n",
    "- implement a fully-vectorized **loss function** for the Softmax classifier\n",
    "- implement the fully-vectorized expression for its **analytic gradient**\n",
    "- **check your implementation** with numerical gradient\n",
    "- use a validation set to **tune the learning rate and regularization** strength\n",
    "- **optimize** the loss function with **SGD**\n",
    "- **visualize** the final learned weights\n"
   ]
  },
  {
   "cell_type": "code",
   "execution_count": 1,
   "metadata": {
    "tags": [
     "pdf-ignore"
    ]
   },
   "outputs": [],
   "source": [
    "import random\n",
    "import numpy as np\n",
    "from cs231n.data_utils import load_CIFAR10\n",
    "import matplotlib.pyplot as plt\n",
    "\n",
    "%matplotlib inline\n",
    "plt.rcParams['figure.figsize'] = (10.0, 8.0) # set default size of plots\n",
    "plt.rcParams['image.interpolation'] = 'nearest'\n",
    "plt.rcParams['image.cmap'] = 'gray'\n",
    "\n",
    "# for auto-reloading extenrnal modules\n",
    "# see http://stackoverflow.com/questions/1907993/autoreload-of-modules-in-ipython\n",
    "%load_ext autoreload\n",
    "%autoreload 2"
   ]
  },
  {
   "cell_type": "code",
   "execution_count": 2,
   "metadata": {
    "tags": [
     "pdf-ignore"
    ]
   },
   "outputs": [
    {
     "name": "stdout",
     "output_type": "stream",
     "text": [
      "Train data shape:  (49000, 3073)\n",
      "Train labels shape:  (49000,)\n",
      "Validation data shape:  (1000, 3073)\n",
      "Validation labels shape:  (1000,)\n",
      "Test data shape:  (1000, 3073)\n",
      "Test labels shape:  (1000,)\n",
      "dev data shape:  (500, 3073)\n",
      "dev labels shape:  (500,)\n"
     ]
    }
   ],
   "source": [
    "def get_CIFAR10_data(num_training=49000, num_validation=1000, num_test=1000, num_dev=500):\n",
    "    \"\"\"\n",
    "    Load the CIFAR-10 dataset from disk and perform preprocessing to prepare\n",
    "    it for the linear classifier. These are the same steps as we used for the\n",
    "    SVM, but condensed to a single function.  \n",
    "    \"\"\"\n",
    "    # Load the raw CIFAR-10 data\n",
    "    cifar10_dir = 'cs231n/datasets/cifar-10-batches-py'\n",
    "    \n",
    "    # Cleaning up variables to prevent loading data multiple times (which may cause memory issue)\n",
    "    try:\n",
    "       del X_train, y_train\n",
    "       del X_test, y_test\n",
    "       print('Clear previously loaded data.')\n",
    "    except:\n",
    "       pass\n",
    "\n",
    "    X_train, y_train, X_test, y_test = load_CIFAR10(cifar10_dir)\n",
    "    \n",
    "    # subsample the data\n",
    "    mask = list(range(num_training, num_training + num_validation))\n",
    "    X_val = X_train[mask]\n",
    "    y_val = y_train[mask]\n",
    "    mask = list(range(num_training))\n",
    "    X_train = X_train[mask]\n",
    "    y_train = y_train[mask]\n",
    "    mask = list(range(num_test))\n",
    "    X_test = X_test[mask]\n",
    "    y_test = y_test[mask]\n",
    "    mask = np.random.choice(num_training, num_dev, replace=False)\n",
    "    X_dev = X_train[mask]\n",
    "    y_dev = y_train[mask]\n",
    "    \n",
    "    # Preprocessing: reshape the image data into rows\n",
    "    X_train = np.reshape(X_train, (X_train.shape[0], -1))\n",
    "    X_val = np.reshape(X_val, (X_val.shape[0], -1))\n",
    "    X_test = np.reshape(X_test, (X_test.shape[0], -1))\n",
    "    X_dev = np.reshape(X_dev, (X_dev.shape[0], -1))\n",
    "    \n",
    "    # Normalize the data: subtract the mean image\n",
    "    mean_image = np.mean(X_train, axis = 0)\n",
    "    X_train -= mean_image\n",
    "    X_val -= mean_image\n",
    "    X_test -= mean_image\n",
    "    X_dev -= mean_image\n",
    "    \n",
    "    # add bias dimension and transform into columns\n",
    "    X_train = np.hstack([X_train, np.ones((X_train.shape[0], 1))])\n",
    "    X_val = np.hstack([X_val, np.ones((X_val.shape[0], 1))])\n",
    "    X_test = np.hstack([X_test, np.ones((X_test.shape[0], 1))])\n",
    "    X_dev = np.hstack([X_dev, np.ones((X_dev.shape[0], 1))])\n",
    "    \n",
    "    return X_train, y_train, X_val, y_val, X_test, y_test, X_dev, y_dev\n",
    "\n",
    "\n",
    "# Invoke the above function to get our data.\n",
    "X_train, y_train, X_val, y_val, X_test, y_test, X_dev, y_dev = get_CIFAR10_data()\n",
    "print('Train data shape: ', X_train.shape)\n",
    "print('Train labels shape: ', y_train.shape)\n",
    "print('Validation data shape: ', X_val.shape)\n",
    "print('Validation labels shape: ', y_val.shape)\n",
    "print('Test data shape: ', X_test.shape)\n",
    "print('Test labels shape: ', y_test.shape)\n",
    "print('dev data shape: ', X_dev.shape)\n",
    "print('dev labels shape: ', y_dev.shape)"
   ]
  },
  {
   "cell_type": "markdown",
   "metadata": {},
   "source": [
    "## Softmax Classifier\n",
    "\n",
    "Your code for this section will all be written inside **cs231n/classifiers/softmax.py**. \n"
   ]
  },
  {
   "cell_type": "code",
   "execution_count": 4,
   "metadata": {},
   "outputs": [
    {
     "name": "stdout",
     "output_type": "stream",
     "text": [
      "loss: 2.320464\n",
      "sanity check: 2.302585\n"
     ]
    }
   ],
   "source": [
    "# First implement the naive softmax loss function with nested loops.\n",
    "# Open the file cs231n/classifiers/softmax.py and implement the\n",
    "# softmax_loss_naive function.\n",
    "\n",
    "from cs231n.classifiers.softmax import softmax_loss_naive\n",
    "import time\n",
    "\n",
    "# Generate a random softmax weight matrix and use it to compute the loss.\n",
    "W = np.random.randn(3073, 10) * 0.0001\n",
    "loss, grad = softmax_loss_naive(W, X_dev, y_dev, 0.0)\n",
    "\n",
    "# As a rough sanity check, our loss should be something close to -log(0.1).\n",
    "print('loss: %f' % loss)\n",
    "print('sanity check: %f' % (-np.log(0.1)))"
   ]
  },
  {
   "cell_type": "markdown",
   "metadata": {
    "tags": [
     "pdf-inline"
    ]
   },
   "source": [
    "**Inline Question 1**\n",
    "\n",
    "Why do we expect our loss to be close to -log(0.1)? Explain briefly.**\n",
    "\n",
    "$\\color{blue}{\\textit Your Answer:}$ \n",
    "\n",
    "The weights are randomly initialized, therefore the possibility of each class should be equal.Since there are 10 classes in total, each should have a possibility of 0.1.\n",
    "\n"
   ]
  },
  {
   "cell_type": "code",
   "execution_count": 8,
   "metadata": {},
   "outputs": [
    {
     "name": "stdout",
     "output_type": "stream",
     "text": [
      "numerical: 2.337861 analytic: 2.337861, relative error: 3.218655e-08\n",
      "numerical: 1.927719 analytic: 1.927719, relative error: 5.376642e-09\n",
      "numerical: -2.023910 analytic: -2.023910, relative error: 6.263691e-09\n",
      "numerical: 4.402025 analytic: 4.402025, relative error: 1.189233e-08\n",
      "numerical: 0.066553 analytic: 0.066553, relative error: 2.499727e-07\n",
      "numerical: -0.222587 analytic: -0.222587, relative error: 4.663448e-08\n",
      "numerical: 0.443035 analytic: 0.443035, relative error: 7.033089e-08\n",
      "numerical: -2.482438 analytic: -2.482438, relative error: 1.252261e-08\n",
      "numerical: 1.651223 analytic: 1.651223, relative error: 1.827931e-08\n",
      "numerical: 0.510789 analytic: 0.510789, relative error: 3.447743e-08\n",
      "numerical: -0.555317 analytic: -0.555317, relative error: 1.797180e-08\n",
      "numerical: -0.034025 analytic: -0.034025, relative error: 7.979330e-08\n",
      "numerical: 0.496020 analytic: 0.496020, relative error: 1.333793e-07\n",
      "numerical: 0.816064 analytic: 0.816063, relative error: 5.462836e-08\n",
      "numerical: 0.183754 analytic: 0.183754, relative error: 5.563080e-08\n",
      "numerical: -5.390210 analytic: -5.390210, relative error: 1.039202e-08\n",
      "numerical: 0.684784 analytic: 0.684783, relative error: 1.034136e-07\n",
      "numerical: 0.257542 analytic: 0.257542, relative error: 1.364738e-08\n",
      "numerical: 1.918686 analytic: 1.918686, relative error: 6.403183e-09\n",
      "numerical: -1.508556 analytic: -1.508556, relative error: 1.235656e-08\n"
     ]
    }
   ],
   "source": [
    "# Complete the implementation of softmax_loss_naive and implement a (naive)\n",
    "# version of the gradient that uses nested loops.\n",
    "loss, grad = softmax_loss_naive(W, X_dev, y_dev, 0.0)\n",
    "\n",
    "# As we did for the SVM, use numeric gradient checking as a debugging tool.\n",
    "# The numeric gradient should be close to the analytic gradient.\n",
    "from cs231n.gradient_check import grad_check_sparse\n",
    "f = lambda w: softmax_loss_naive(w, X_dev, y_dev, 0.0)[0]\n",
    "grad_numerical = grad_check_sparse(f, W, grad, 10)\n",
    "\n",
    "# similar to SVM case, do another gradient check with regularization\n",
    "loss, grad = softmax_loss_naive(W, X_dev, y_dev, 5e1)\n",
    "f = lambda w: softmax_loss_naive(w, X_dev, y_dev, 5e1)[0]\n",
    "grad_numerical = grad_check_sparse(f, W, grad, 10)"
   ]
  },
  {
   "cell_type": "code",
   "execution_count": 12,
   "metadata": {},
   "outputs": [
    {
     "name": "stdout",
     "output_type": "stream",
     "text": [
      "naive loss: 2.320464e+00 computed in 0.063763s\n",
      "vectorized loss: 2.320464e+00 computed in 0.002990s\n",
      "Loss difference: 0.000000\n",
      "Gradient difference: 0.000000\n"
     ]
    }
   ],
   "source": [
    "# Now that we have a naive implementation of the softmax loss function and its gradient,\n",
    "# implement a vectorized version in softmax_loss_vectorized.\n",
    "# The two versions should compute the same results, but the vectorized version should be\n",
    "# much faster.\n",
    "tic = time.time()\n",
    "loss_naive, grad_naive = softmax_loss_naive(W, X_dev, y_dev, 0.000005)\n",
    "toc = time.time()\n",
    "print('naive loss: %e computed in %fs' % (loss_naive, toc - tic))\n",
    "\n",
    "from cs231n.classifiers.softmax import softmax_loss_vectorized\n",
    "tic = time.time()\n",
    "loss_vectorized, grad_vectorized = softmax_loss_vectorized(W, X_dev, y_dev, 0.000005)\n",
    "toc = time.time()\n",
    "print('vectorized loss: %e computed in %fs' % (loss_vectorized, toc - tic))\n",
    "\n",
    "# As we did for the SVM, we use the Frobenius norm to compare the two versions\n",
    "# of the gradient.\n",
    "grad_difference = np.linalg.norm(grad_naive - grad_vectorized, ord='fro')\n",
    "print('Loss difference: %f' % np.abs(loss_naive - loss_vectorized))\n",
    "print('Gradient difference: %f' % grad_difference)"
   ]
  },
  {
   "cell_type": "code",
   "execution_count": 53,
   "metadata": {
    "tags": [
     "code"
    ]
   },
   "outputs": [
    {
     "name": "stdout",
     "output_type": "stream",
     "text": [
      "iteration 0 / 1500: loss 477.700321\n",
      "iteration 100 / 1500: loss 231.820352\n",
      "iteration 200 / 1500: loss 113.396682\n",
      "iteration 300 / 1500: loss 55.869038\n",
      "iteration 400 / 1500: loss 28.134690\n",
      "iteration 500 / 1500: loss 14.750206\n",
      "iteration 600 / 1500: loss 8.163683\n",
      "iteration 700 / 1500: loss 5.001316\n",
      "iteration 800 / 1500: loss 3.492924\n",
      "iteration 900 / 1500: loss 2.730336\n",
      "iteration 1000 / 1500: loss 2.373346\n",
      "iteration 1100 / 1500: loss 2.150649\n",
      "iteration 1200 / 1500: loss 2.127046\n",
      "iteration 1300 / 1500: loss 2.103528\n",
      "iteration 1400 / 1500: loss 2.025745\n",
      "iteration 0 / 1500: loss 541.907580\n",
      "iteration 100 / 1500: loss 233.482131\n",
      "iteration 200 / 1500: loss 101.398355\n",
      "iteration 300 / 1500: loss 44.809874\n",
      "iteration 400 / 1500: loss 20.420714\n",
      "iteration 500 / 1500: loss 9.942322\n",
      "iteration 600 / 1500: loss 5.508152\n",
      "iteration 700 / 1500: loss 3.515174\n",
      "iteration 800 / 1500: loss 2.756168\n",
      "iteration 900 / 1500: loss 2.262470\n",
      "iteration 1000 / 1500: loss 2.150570\n",
      "iteration 1100 / 1500: loss 2.116006\n",
      "iteration 1200 / 1500: loss 2.082791\n",
      "iteration 1300 / 1500: loss 2.064395\n",
      "iteration 1400 / 1500: loss 2.035684\n",
      "iteration 0 / 1500: loss 624.546407\n",
      "iteration 100 / 1500: loss 238.361705\n",
      "iteration 200 / 1500: loss 91.968188\n",
      "iteration 300 / 1500: loss 36.330201\n",
      "iteration 400 / 1500: loss 15.081913\n",
      "iteration 500 / 1500: loss 7.057887\n",
      "iteration 600 / 1500: loss 3.927828\n",
      "iteration 700 / 1500: loss 2.794831\n",
      "iteration 800 / 1500: loss 2.385013\n",
      "iteration 900 / 1500: loss 2.124160\n",
      "iteration 1000 / 1500: loss 2.149820\n",
      "iteration 1100 / 1500: loss 2.083628\n",
      "iteration 1200 / 1500: loss 2.009180\n",
      "iteration 1300 / 1500: loss 2.082979\n",
      "iteration 1400 / 1500: loss 2.028926\n",
      "iteration 0 / 1500: loss 472.225495\n",
      "iteration 100 / 1500: loss 258.229048\n",
      "iteration 200 / 1500: loss 141.986032\n",
      "iteration 300 / 1500: loss 78.555567\n",
      "iteration 400 / 1500: loss 43.859226\n",
      "iteration 500 / 1500: loss 24.919037\n",
      "iteration 600 / 1500: loss 14.589281\n",
      "iteration 700 / 1500: loss 8.873365\n",
      "iteration 800 / 1500: loss 5.793804\n",
      "iteration 900 / 1500: loss 4.103252\n",
      "iteration 1000 / 1500: loss 3.164316\n",
      "iteration 1100 / 1500: loss 2.650265\n",
      "iteration 1200 / 1500: loss 2.369404\n",
      "iteration 1300 / 1500: loss 2.263645\n",
      "iteration 1400 / 1500: loss 2.198277\n",
      "iteration 0 / 1500: loss 541.550013\n",
      "iteration 100 / 1500: loss 267.726503\n",
      "iteration 200 / 1500: loss 133.386148\n",
      "iteration 300 / 1500: loss 67.180979\n",
      "iteration 400 / 1500: loss 34.167281\n",
      "iteration 500 / 1500: loss 17.967217\n",
      "iteration 600 / 1500: loss 9.922735\n",
      "iteration 700 / 1500: loss 6.022065\n",
      "iteration 800 / 1500: loss 4.010941\n",
      "iteration 900 / 1500: loss 3.049908\n",
      "iteration 1000 / 1500: loss 2.647748\n",
      "iteration 1100 / 1500: loss 2.250956\n",
      "iteration 1200 / 1500: loss 2.158683\n",
      "iteration 1300 / 1500: loss 2.072897\n",
      "iteration 1400 / 1500: loss 2.096274\n",
      "iteration 0 / 1500: loss 613.774461\n",
      "iteration 100 / 1500: loss 275.346605\n",
      "iteration 200 / 1500: loss 124.298160\n",
      "iteration 300 / 1500: loss 56.681502\n",
      "iteration 400 / 1500: loss 26.481967\n",
      "iteration 500 / 1500: loss 13.013744\n",
      "iteration 600 / 1500: loss 6.976061\n",
      "iteration 700 / 1500: loss 4.259398\n",
      "iteration 800 / 1500: loss 3.069276\n",
      "iteration 900 / 1500: loss 2.543045\n",
      "iteration 1000 / 1500: loss 2.266894\n",
      "iteration 1100 / 1500: loss 2.247914\n",
      "iteration 1200 / 1500: loss 2.086827\n",
      "iteration 1300 / 1500: loss 2.057497\n",
      "iteration 1400 / 1500: loss 2.100868\n",
      "lr 1.000000e-07 reg 1.500000e+04 train accuracy: 0.344776 val accuracy: 0.356000\n",
      "lr 1.000000e-07 reg 1.750000e+04 train accuracy: 0.341816 val accuracy: 0.352000\n",
      "lr 1.000000e-07 reg 2.000000e+04 train accuracy: 0.332898 val accuracy: 0.342000\n",
      "lr 1.200000e-07 reg 1.500000e+04 train accuracy: 0.347388 val accuracy: 0.368000\n",
      "lr 1.200000e-07 reg 1.750000e+04 train accuracy: 0.340224 val accuracy: 0.355000\n",
      "lr 1.200000e-07 reg 2.000000e+04 train accuracy: 0.337755 val accuracy: 0.349000\n",
      "best validation accuracy achieved during cross-validation: 0.368000\n"
     ]
    }
   ],
   "source": [
    "# Use the validation set to tune hyperparameters (regularization strength and\n",
    "# learning rate). You should experiment with different ranges for the learning\n",
    "# rates and regularization strengths; if you are careful you should be able to\n",
    "# get a classification accuracy of over 0.35 on the validation set.\n",
    "from cs231n.classifiers import Softmax\n",
    "results = {}\n",
    "best_val = -1\n",
    "best_softmax = None\n",
    "learning_rates = [1.2e-7,1e-7]\n",
    "regularization_strengths = [1.5e4, 1.75e4,2e4]\n",
    "\n",
    "################################################################################\n",
    "# TODO:                                                                        #\n",
    "# Use the validation set to set the learning rate and regularization strength. #\n",
    "# This should be identical to the validation that you did for the SVM; save    #\n",
    "# the best trained softmax classifer in best_softmax.                          #\n",
    "################################################################################\n",
    "# *****START OF YOUR CODE (DO NOT DELETE/MODIFY THIS LINE)*****\n",
    "\n",
    "for lr in learning_rates:\n",
    "    for reg in regularization_strengths:\n",
    "        smx = Softmax()\n",
    "        smx.train(X_train, y_train, learning_rate=lr, reg=reg, num_iters=1500,verbose = True)\n",
    "        y_train_pred = smx.predict(X_train)\n",
    "        train_acc = np.mean(y_train_pred == y_train)\n",
    "        y_pred = smx.predict(X_val)\n",
    "        accuracy = np.mean(y_pred == y_val)\n",
    "        \n",
    "        results[(lr, reg)] = (train_acc, accuracy)\n",
    "        \n",
    "        if accuracy > best_val:\n",
    "            best_val = accuracy\n",
    "            best_softmax = smx\n",
    "\n",
    "# *****END OF YOUR CODE (DO NOT DELETE/MODIFY THIS LINE)*****\n",
    "    \n",
    "# Print out results.\n",
    "for lr, reg in sorted(results):\n",
    "    train_accuracy, val_accuracy = results[(lr, reg)]\n",
    "    print('lr %e reg %e train accuracy: %f val accuracy: %f' % (\n",
    "                lr, reg, train_accuracy, val_accuracy))\n",
    "    \n",
    "print('best validation accuracy achieved during cross-validation: %f' % best_val)"
   ]
  },
  {
   "cell_type": "code",
   "execution_count": 54,
   "metadata": {},
   "outputs": [
    {
     "name": "stdout",
     "output_type": "stream",
     "text": [
      "softmax on raw pixels final test set accuracy: 0.358000\n"
     ]
    }
   ],
   "source": [
    "# evaluate on test set\n",
    "# Evaluate the best softmax on test set\n",
    "y_test_pred = best_softmax.predict(X_test)\n",
    "test_accuracy = np.mean(y_test == y_test_pred)\n",
    "print('softmax on raw pixels final test set accuracy: %f' % (test_accuracy, ))"
   ]
  },
  {
   "cell_type": "markdown",
   "metadata": {
    "tags": [
     "pdf-inline"
    ]
   },
   "source": [
    "**Inline Question 2** - *True or False*\n",
    "\n",
    "Suppose the overall training loss is defined as the sum of the per-datapoint loss over all training examples. It is possible to add a new datapoint to a training set that would leave the SVM loss unchanged, but this is not the case with the Softmax classifier loss.\n",
    "\n",
    "$\\color{blue}{\\textit Your Answer:}$\n",
    "\n",
    "True\n",
    "\n",
    "$\\color{blue}{\\textit Your Explanation:}$\n",
    "\n",
    "For SVM, if our model predicts scores that is good enough(there's a satisfying space between scores of wrong classes and the correct class), it is possible to get a 0 loss for this datapoint.However, in the case with the Softmax classifier, since the loss is \n",
    "$$L = -\\log \\frac{e^{f_{y_i}}} {\\sum_j e^{f_{y_j}}}$$\n",
    "while \n",
    "$$e^{f_{y_i}} < \\sum_j e^{f_{y_j}}$$ \n",
    "It is impossible for the loss to be 0.Therefore the overall training loss would always increase.\n",
    "\n"
   ]
  },
  {
   "cell_type": "code",
   "execution_count": 55,
   "metadata": {},
   "outputs": [
    {
     "data": {
      "image/png": "[encoded data removed]",
      "text/plain": [
       "<Figure size 432x288 with 10 Axes>"
      ]
     },
     "metadata": {
      "needs_background": "light"
     },
     "output_type": "display_data"
    }
   ],
   "source": [
    "# Visualize the learned weights for each class\n",
    "w = best_softmax.W[:-1,:] # strip out the bias\n",
    "w = w.reshape(32, 32, 3, 10)\n",
    "\n",
    "w_min, w_max = np.min(w), np.max(w)\n",
    "\n",
    "classes = ['plane', 'car', 'bird', 'cat', 'deer', 'dog', 'frog', 'horse', 'ship', 'truck']\n",
    "for i in range(10):\n",
    "    plt.subplot(2, 5, i + 1)\n",
    "    \n",
    "    # Rescale the weights to be between 0 and 255\n",
    "    wimg = 255.0 * (w[:, :, :, i].squeeze() - w_min) / (w_max - w_min)\n",
    "    plt.imshow(wimg.astype('uint8'))\n",
    "    plt.axis('off')\n",
    "    plt.title(classes[i])"
   ]
  },
  {
   "cell_type": "code",
   "execution_count": null,
   "metadata": {},
   "outputs": [],
   "source": []
  }
 ],
 "metadata": {
  "kernelspec": {
   "display_name": "Python 3",
   "language": "python",
   "name": "python3"
  },
  "language_info": {
   "codemirror_mode": {
    "name": "ipython",
    "version": 3
   },
   "file_extension": ".py",
   "mimetype": "text/x-python",
   "name": "python",
   "nbconvert_exporter": "python",
   "pygments_lexer": "ipython3",
   "version": "3.7.16"
  }
 },
 "nbformat": 4,
 "nbformat_minor": 1
}
