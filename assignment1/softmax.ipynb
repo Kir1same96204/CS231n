{
 "cells": [
  {
   "cell_type": "code",
   "execution_count": null,
   "id": "149d5b7e",
   "metadata": {},
   "outputs": [],
   "source": [
    "# This mounts your Google Drive to the Colab VM.\n",
    "from google.colab import drive\n",
    "drive.mount('/content/drive')\n",
    "\n",
    "# TODO: Enter the foldername in your Drive where you have saved the unzipped\n",
    "# assignment folder, e.g. 'cs231n/assignments/assignment1/'\n",
    "FOLDERNAME = None\n",
    "assert FOLDERNAME is not None, \"[!] Enter the foldername.\"\n",
    "\n",
    "# Now that we've mounted your Drive, this ensures that\n",
    "# the Python interpreter of the Colab VM can load\n",
    "# python files from within it.\n",
    "import sys\n",
    "sys.path.append('/content/drive/My Drive/{}'.format(FOLDERNAME))\n",
    "\n",
    "# This downloads the CIFAR-10 dataset to your Drive\n",
    "# if it doesn't already exist.\n",
    "%cd /content/drive/My\\ Drive/$FOLDERNAME/cs231n/datasets/\n",
    "!bash get_datasets.sh\n",
    "%cd /content/drive/My\\ Drive/$FOLDERNAME"
   ]
  },
  {
   "cell_type": "markdown",
   "id": "5fdfc27e",
   "metadata": {
    "tags": [
     "pdf-title"
    ]
   },
   "source": [
    "# Softmax exercise\n",
    "\n",
    "*Complete and hand in this completed worksheet (including its outputs and any supporting code outside of the worksheet) with your assignment submission. For more details see the [assignments page](http://vision.stanford.edu/teaching/cs231n/assignments.html) on the course website.*\n",
    "\n",
    "This exercise is analogous to the SVM exercise. You will:\n",
    "\n",
    "- implement a fully-vectorized **loss function** for the Softmax classifier\n",
    "- implement the fully-vectorized expression for its **analytic gradient**\n",
    "- **check your implementation** with numerical gradient\n",
    "- use a validation set to **tune the learning rate and regularization** strength\n",
    "- **optimize** the loss function with **SGD**\n",
    "- **visualize** the final learned weights\n"
   ]
  },
  {
   "cell_type": "code",
   "execution_count": 1,
   "id": "ca6cf2d4",
   "metadata": {
    "tags": [
     "pdf-ignore"
    ]
   },
   "outputs": [],
   "source": [
    "import random\n",
    "import numpy as np\n",
    "from cs231n.data_utils import load_CIFAR10\n",
    "import matplotlib.pyplot as plt\n",
    "\n",
    "%matplotlib inline\n",
    "plt.rcParams['figure.figsize'] = (10.0, 8.0) # set default size of plots\n",
    "plt.rcParams['image.interpolation'] = 'nearest'\n",
    "plt.rcParams['image.cmap'] = 'gray'\n",
    "\n",
    "# for auto-reloading extenrnal modules\n",
    "# see http://stackoverflow.com/questions/1907993/autoreload-of-modules-in-ipython\n",
    "%load_ext autoreload\n",
    "%autoreload 2"
   ]
  },
  {
   "cell_type": "code",
   "execution_count": 2,
   "id": "9e9bbbbe",
   "metadata": {
    "tags": [
     "pdf-ignore"
    ]
   },
   "outputs": [
    {
     "name": "stdout",
     "output_type": "stream",
     "text": [
      "Train data shape:  (49000, 3073)\n",
      "Train labels shape:  (49000,)\n",
      "Validation data shape:  (1000, 3073)\n",
      "Validation labels shape:  (1000,)\n",
      "Test data shape:  (1000, 3073)\n",
      "Test labels shape:  (1000,)\n",
      "dev data shape:  (500, 3073)\n",
      "dev labels shape:  (500,)\n"
     ]
    }
   ],
   "source": [
    "def get_CIFAR10_data(num_training=49000, num_validation=1000, num_test=1000, num_dev=500):\n",
    "    \"\"\"\n",
    "    Load the CIFAR-10 dataset from disk and perform preprocessing to prepare\n",
    "    it for the linear classifier. These are the same steps as we used for the\n",
    "    SVM, but condensed to a single function.  \n",
    "    \"\"\"\n",
    "    # Load the raw CIFAR-10 data\n",
    "    cifar10_dir = 'cs231n/datasets/cifar-10-batches-py'\n",
    "    \n",
    "    # Cleaning up variables to prevent loading data multiple times (which may cause memory issue)\n",
    "    try:\n",
    "       del X_train, y_train\n",
    "       del X_test, y_test\n",
    "       print('Clear previously loaded data.')\n",
    "    except:\n",
    "       pass\n",
    "\n",
    "    X_train, y_train, X_test, y_test = load_CIFAR10(cifar10_dir)\n",
    "    \n",
    "    # subsample the data\n",
    "    mask = list(range(num_training, num_training + num_validation))\n",
    "    X_val = X_train[mask]\n",
    "    y_val = y_train[mask]\n",
    "    mask = list(range(num_training))\n",
    "    X_train = X_train[mask]\n",
    "    y_train = y_train[mask]\n",
    "    mask = list(range(num_test))\n",
    "    X_test = X_test[mask]\n",
    "    y_test = y_test[mask]\n",
    "    mask = np.random.choice(num_training, num_dev, replace=False)\n",
    "    X_dev = X_train[mask]\n",
    "    y_dev = y_train[mask]\n",
    "    \n",
    "    # Preprocessing: reshape the image data into rows\n",
    "    X_train = np.reshape(X_train, (X_train.shape[0], -1))\n",
    "    X_val = np.reshape(X_val, (X_val.shape[0], -1))\n",
    "    X_test = np.reshape(X_test, (X_test.shape[0], -1))\n",
    "    X_dev = np.reshape(X_dev, (X_dev.shape[0], -1))\n",
    "    \n",
    "    # Normalize the data: subtract the mean image\n",
    "    mean_image = np.mean(X_train, axis = 0)\n",
    "    X_train -= mean_image\n",
    "    X_val -= mean_image\n",
    "    X_test -= mean_image\n",
    "    X_dev -= mean_image\n",
    "    \n",
    "    # add bias dimension and transform into columns\n",
    "    X_train = np.hstack([X_train, np.ones((X_train.shape[0], 1))])\n",
    "    X_val = np.hstack([X_val, np.ones((X_val.shape[0], 1))])\n",
    "    X_test = np.hstack([X_test, np.ones((X_test.shape[0], 1))])\n",
    "    X_dev = np.hstack([X_dev, np.ones((X_dev.shape[0], 1))])\n",
    "    \n",
    "    return X_train, y_train, X_val, y_val, X_test, y_test, X_dev, y_dev\n",
    "\n",
    "\n",
    "# Invoke the above function to get our data.\n",
    "X_train, y_train, X_val, y_val, X_test, y_test, X_dev, y_dev = get_CIFAR10_data()\n",
    "print('Train data shape: ', X_train.shape)\n",
    "print('Train labels shape: ', y_train.shape)\n",
    "print('Validation data shape: ', X_val.shape)\n",
    "print('Validation labels shape: ', y_val.shape)\n",
    "print('Test data shape: ', X_test.shape)\n",
    "print('Test labels shape: ', y_test.shape)\n",
    "print('dev data shape: ', X_dev.shape)\n",
    "print('dev labels shape: ', y_dev.shape)"
   ]
  },
  {
   "cell_type": "markdown",
   "id": "d4c3fb04",
   "metadata": {},
   "source": [
    "## Softmax Classifier\n",
    "\n",
    "Your code for this section will all be written inside `cs231n/classifiers/softmax.py`.\n"
   ]
  },
  {
   "cell_type": "code",
   "execution_count": 3,
   "id": "25f2e5e1",
   "metadata": {},
   "outputs": [
    {
     "name": "stdout",
     "output_type": "stream",
     "text": [
      "loss: 2.331132\n",
      "sanity check: 2.302585\n"
     ]
    }
   ],
   "source": [
    "# First implement the naive softmax loss function with nested loops.\n",
    "# Open the file cs231n/classifiers/softmax.py and implement the\n",
    "# softmax_loss_naive function.\n",
    "\n",
    "from cs231n.classifiers.softmax import softmax_loss_naive\n",
    "import time\n",
    "\n",
    "# Generate a random softmax weight matrix and use it to compute the loss.\n",
    "W = np.random.randn(3073, 10) * 0.0001\n",
    "loss, grad = softmax_loss_naive(W, X_dev, y_dev, 0.0)\n",
    "\n",
    "# As a rough sanity check, our loss should be something close to -log(0.1).\n",
    "print('loss: %f' % loss)\n",
    "print('sanity check: %f' % (-np.log(0.1)))"
   ]
  },
  {
   "cell_type": "markdown",
   "id": "9e9aaf18",
   "metadata": {
    "tags": [
     "pdf-inline"
    ]
   },
   "source": [
    "**Inline Question 1**\n",
    "\n",
    "Why do we expect our loss to be close to -log(0.1)? Explain briefly.**\n",
    "\n",
    "$\\color{blue}{\\textit Your Answer:}$ \n",
    "\n",
    "The weights are randomly initialized, therefore the possibility of each class should be equal.Since there are 10 classes in total, each should have a possibility of 0.1.\n"
   ]
  },
  {
   "cell_type": "code",
   "execution_count": 4,
   "id": "a8cb3eb1",
   "metadata": {},
   "outputs": [
    {
     "name": "stdout",
     "output_type": "stream",
     "text": [
      "numerical: -1.599429 analytic: -1.599429, relative error: 1.395089e-08\n",
      "numerical: -0.322247 analytic: -0.322247, relative error: 1.392976e-08\n",
      "numerical: -0.125916 analytic: -0.125916, relative error: 1.574713e-08\n",
      "numerical: 3.344709 analytic: 3.344709, relative error: 1.663011e-08\n",
      "numerical: 0.649807 analytic: 0.649807, relative error: 6.410210e-08\n",
      "numerical: 3.427297 analytic: 3.427297, relative error: 2.374302e-08\n",
      "numerical: -2.485517 analytic: -2.485517, relative error: 6.240951e-09\n",
      "numerical: -2.051561 analytic: -2.051561, relative error: 7.951127e-09\n",
      "numerical: -2.202076 analytic: -2.202076, relative error: 5.076316e-09\n",
      "numerical: -1.589593 analytic: -1.589593, relative error: 9.660679e-09\n",
      "numerical: 2.725900 analytic: 2.725900, relative error: 2.285379e-09\n",
      "numerical: 3.139368 analytic: 3.139368, relative error: 1.163239e-08\n",
      "numerical: -0.179861 analytic: -0.179861, relative error: 7.337680e-08\n",
      "numerical: 2.093065 analytic: 2.093065, relative error: 2.946454e-08\n",
      "numerical: -0.614590 analytic: -0.614590, relative error: 3.980588e-08\n",
      "numerical: -2.078377 analytic: -2.078377, relative error: 3.052568e-08\n",
      "numerical: -1.426110 analytic: -1.426110, relative error: 1.854394e-08\n",
      "numerical: 2.605652 analytic: 2.605652, relative error: 1.521866e-08\n",
      "numerical: 3.693221 analytic: 3.693220, relative error: 1.919677e-08\n",
      "numerical: -4.032236 analytic: -4.032236, relative error: 1.200506e-08\n"
     ]
    }
   ],
   "source": [
    "# Complete the implementation of softmax_loss_naive and implement a (naive)\n",
    "# version of the gradient that uses nested loops.\n",
    "loss, grad = softmax_loss_naive(W, X_dev, y_dev, 0.0)\n",
    "\n",
    "# As we did for the SVM, use numeric gradient checking as a debugging tool.\n",
    "# The numeric gradient should be close to the analytic gradient.\n",
    "from cs231n.gradient_check import grad_check_sparse\n",
    "f = lambda w: softmax_loss_naive(w, X_dev, y_dev, 0.0)[0]\n",
    "grad_numerical = grad_check_sparse(f, W, grad, 10)\n",
    "\n",
    "# similar to SVM case, do another gradient check with regularization\n",
    "loss, grad = softmax_loss_naive(W, X_dev, y_dev, 5e1)\n",
    "f = lambda w: softmax_loss_naive(w, X_dev, y_dev, 5e1)[0]\n",
    "grad_numerical = grad_check_sparse(f, W, grad, 10)"
   ]
  },
  {
   "cell_type": "code",
   "execution_count": 5,
   "id": "4a4a81d4",
   "metadata": {},
   "outputs": [
    {
     "name": "stdout",
     "output_type": "stream",
     "text": [
      "naive loss: 2.331132e+00 computed in 0.088214s\n",
      "vectorized loss: 2.331132e+00 computed in 0.003511s\n",
      "Loss difference: 0.000000\n",
      "Gradient difference: 0.000000\n"
     ]
    }
   ],
   "source": [
    "# Now that we have a naive implementation of the softmax loss function and its gradient,\n",
    "# implement a vectorized version in softmax_loss_vectorized.\n",
    "# The two versions should compute the same results, but the vectorized version should be\n",
    "# much faster.\n",
    "tic = time.time()\n",
    "loss_naive, grad_naive = softmax_loss_naive(W, X_dev, y_dev, 0.000005)\n",
    "toc = time.time()\n",
    "print('naive loss: %e computed in %fs' % (loss_naive, toc - tic))\n",
    "\n",
    "from cs231n.classifiers.softmax import softmax_loss_vectorized\n",
    "tic = time.time()\n",
    "loss_vectorized, grad_vectorized = softmax_loss_vectorized(W, X_dev, y_dev, 0.000005)\n",
    "toc = time.time()\n",
    "print('vectorized loss: %e computed in %fs' % (loss_vectorized, toc - tic))\n",
    "\n",
    "# As we did for the SVM, we use the Frobenius norm to compare the two versions\n",
    "# of the gradient.\n",
    "grad_difference = np.linalg.norm(grad_naive - grad_vectorized, ord='fro')\n",
    "print('Loss difference: %f' % np.abs(loss_naive - loss_vectorized))\n",
    "print('Gradient difference: %f' % grad_difference)"
   ]
  },
  {
   "cell_type": "code",
   "execution_count": 6,
   "id": "a3453536",
   "metadata": {
    "tags": [
     "code"
    ],
    "test": "tuning"
   },
   "outputs": [
    {
     "name": "stdout",
     "output_type": "stream",
     "text": [
      "iteration 0 / 1500: loss 464.023605\n",
      "iteration 100 / 1500: loss 225.521394\n",
      "iteration 200 / 1500: loss 110.392604\n",
      "iteration 300 / 1500: loss 54.446089\n",
      "iteration 400 / 1500: loss 27.466799\n",
      "iteration 500 / 1500: loss 14.341449\n",
      "iteration 600 / 1500: loss 7.978145\n",
      "iteration 700 / 1500: loss 4.920756\n",
      "iteration 800 / 1500: loss 3.431575\n",
      "iteration 900 / 1500: loss 2.741721\n",
      "iteration 1000 / 1500: loss 2.364782\n",
      "iteration 1100 / 1500: loss 2.167475\n",
      "iteration 1200 / 1500: loss 2.087583\n",
      "iteration 1300 / 1500: loss 2.018265\n",
      "iteration 1400 / 1500: loss 2.088236\n",
      "iteration 0 / 1500: loss 543.096967\n",
      "iteration 100 / 1500: loss 234.195503\n",
      "iteration 200 / 1500: loss 101.679828\n",
      "iteration 300 / 1500: loss 44.860949\n",
      "iteration 400 / 1500: loss 20.495600\n",
      "iteration 500 / 1500: loss 9.988184\n",
      "iteration 600 / 1500: loss 5.483141\n",
      "iteration 700 / 1500: loss 3.483877\n",
      "iteration 800 / 1500: loss 2.762382\n",
      "iteration 900 / 1500: loss 2.374856\n",
      "iteration 1000 / 1500: loss 2.099483\n",
      "iteration 1100 / 1500: loss 2.097983\n",
      "iteration 1200 / 1500: loss 2.041692\n",
      "iteration 1300 / 1500: loss 2.052984\n",
      "iteration 1400 / 1500: loss 2.123190\n",
      "iteration 0 / 1500: loss 617.991547\n",
      "iteration 100 / 1500: loss 235.615478\n",
      "iteration 200 / 1500: loss 90.929156\n",
      "iteration 300 / 1500: loss 35.894812\n",
      "iteration 400 / 1500: loss 14.957898\n",
      "iteration 500 / 1500: loss 6.952989\n",
      "iteration 600 / 1500: loss 3.906688\n",
      "iteration 700 / 1500: loss 2.744459\n",
      "iteration 800 / 1500: loss 2.404304\n",
      "iteration 900 / 1500: loss 2.125402\n",
      "iteration 1000 / 1500: loss 2.151723\n",
      "iteration 1100 / 1500: loss 2.043355\n",
      "iteration 1200 / 1500: loss 2.097747\n",
      "iteration 1300 / 1500: loss 2.045106\n",
      "iteration 1400 / 1500: loss 2.045937\n",
      "iteration 0 / 1500: loss 472.529633\n",
      "iteration 100 / 1500: loss 258.854979\n",
      "iteration 200 / 1500: loss 142.412912\n",
      "iteration 300 / 1500: loss 78.863017\n",
      "iteration 400 / 1500: loss 44.011050\n",
      "iteration 500 / 1500: loss 25.010265\n",
      "iteration 600 / 1500: loss 14.586271\n",
      "iteration 700 / 1500: loss 8.946228\n",
      "iteration 800 / 1500: loss 5.820453\n",
      "iteration 900 / 1500: loss 4.155695\n",
      "iteration 1000 / 1500: loss 3.198583\n",
      "iteration 1100 / 1500: loss 2.618006\n",
      "iteration 1200 / 1500: loss 2.345486\n",
      "iteration 1300 / 1500: loss 2.215513\n",
      "iteration 1400 / 1500: loss 2.114477\n",
      "iteration 0 / 1500: loss 543.988539\n",
      "iteration 100 / 1500: loss 269.465500\n",
      "iteration 200 / 1500: loss 134.389825\n",
      "iteration 300 / 1500: loss 67.464038\n",
      "iteration 400 / 1500: loss 34.360266\n",
      "iteration 500 / 1500: loss 18.097393\n",
      "iteration 600 / 1500: loss 9.953325\n",
      "iteration 700 / 1500: loss 5.989243\n",
      "iteration 800 / 1500: loss 3.967409\n",
      "iteration 900 / 1500: loss 2.946454\n",
      "iteration 1000 / 1500: loss 2.602939\n",
      "iteration 1100 / 1500: loss 2.335249\n",
      "iteration 1200 / 1500: loss 2.200929\n",
      "iteration 1300 / 1500: loss 2.158975\n",
      "iteration 1400 / 1500: loss 2.068454\n",
      "iteration 0 / 1500: loss 614.804806\n",
      "iteration 100 / 1500: loss 275.200512\n",
      "iteration 200 / 1500: loss 124.236098\n",
      "iteration 300 / 1500: loss 56.746838\n",
      "iteration 400 / 1500: loss 26.388961\n",
      "iteration 500 / 1500: loss 12.961198\n",
      "iteration 600 / 1500: loss 7.006059\n",
      "iteration 700 / 1500: loss 4.253638\n",
      "iteration 800 / 1500: loss 3.025239\n",
      "iteration 900 / 1500: loss 2.557778\n",
      "iteration 1000 / 1500: loss 2.293189\n",
      "iteration 1100 / 1500: loss 2.140080\n",
      "iteration 1200 / 1500: loss 2.102352\n",
      "iteration 1300 / 1500: loss 2.100072\n",
      "iteration 1400 / 1500: loss 2.079041\n",
      "lr 1.000000e-07 reg 1.500000e+04 train accuracy: 0.346082 val accuracy: 0.364000\n",
      "lr 1.000000e-07 reg 1.750000e+04 train accuracy: 0.340510 val accuracy: 0.356000\n",
      "lr 1.000000e-07 reg 2.000000e+04 train accuracy: 0.338102 val accuracy: 0.360000\n",
      "lr 1.200000e-07 reg 1.500000e+04 train accuracy: 0.350429 val accuracy: 0.366000\n",
      "lr 1.200000e-07 reg 1.750000e+04 train accuracy: 0.336286 val accuracy: 0.343000\n",
      "lr 1.200000e-07 reg 2.000000e+04 train accuracy: 0.329714 val accuracy: 0.350000\n",
      "best validation accuracy achieved during cross-validation: 0.366000\n"
     ]
    }
   ],
   "source": [
    "# Use the validation set to tune hyperparameters (regularization strength and\n",
    "# learning rate). You should experiment with different ranges for the learning\n",
    "# rates and regularization strengths; if you are careful you should be able to\n",
    "# get a classification accuracy of over 0.35 on the validation set.\n",
    "\n",
    "from cs231n.classifiers import Softmax\n",
    "results = {}\n",
    "best_val = -1\n",
    "best_softmax = None\n",
    "\n",
    "################################################################################\n",
    "# TODO:                                                                        #\n",
    "# Use the validation set to set the learning rate and regularization strength. #\n",
    "# This should be identical to the validation that you did for the SVM; save    #\n",
    "# the best trained softmax classifer in best_softmax.                          #\n",
    "################################################################################\n",
    "\n",
    "# Provided as a reference. You may or may not want to change these hyperparameters\n",
    "learning_rates = [1.2e-7,1e-7]\n",
    "regularization_strengths = [1.5e4, 1.75e4,2e4]\n",
    "\n",
    "# *****START OF YOUR CODE (DO NOT DELETE/MODIFY THIS LINE)*****\n",
    "\n",
    "for lr in learning_rates:\n",
    "    for reg in regularization_strengths:\n",
    "        smx = Softmax()\n",
    "        smx.train(X_train, y_train, learning_rate=lr, reg=reg, num_iters=1500,verbose = True)\n",
    "        y_train_pred = smx.predict(X_train)\n",
    "        train_acc = np.mean(y_train_pred == y_train)\n",
    "        y_pred = smx.predict(X_val)\n",
    "        accuracy = np.mean(y_pred == y_val)\n",
    "        \n",
    "        results[(lr, reg)] = (train_acc, accuracy)\n",
    "        \n",
    "        if accuracy > best_val:\n",
    "            best_val = accuracy\n",
    "            best_softmax = smx\n",
    "\n",
    "# *****END OF YOUR CODE (DO NOT DELETE/MODIFY THIS LINE)*****\n",
    "    \n",
    "# Print out results.\n",
    "for lr, reg in sorted(results):\n",
    "    train_accuracy, val_accuracy = results[(lr, reg)]\n",
    "    print('lr %e reg %e train accuracy: %f val accuracy: %f' % (\n",
    "                lr, reg, train_accuracy, val_accuracy))\n",
    "    \n",
    "print('best validation accuracy achieved during cross-validation: %f' % best_val)"
   ]
  },
  {
   "cell_type": "code",
   "execution_count": 7,
   "id": "8a1f9db3",
   "metadata": {
    "test": "test"
   },
   "outputs": [
    {
     "name": "stdout",
     "output_type": "stream",
     "text": [
      "softmax on raw pixels final test set accuracy: 0.356000\n"
     ]
    }
   ],
   "source": [
    "# evaluate on test set\n",
    "# Evaluate the best softmax on test set\n",
    "y_test_pred = best_softmax.predict(X_test)\n",
    "test_accuracy = np.mean(y_test == y_test_pred)\n",
    "print('softmax on raw pixels final test set accuracy: %f' % (test_accuracy, ))"
   ]
  },
  {
   "cell_type": "markdown",
   "id": "9121a3c9",
   "metadata": {
    "tags": [
     "pdf-inline"
    ]
   },
   "source": [
    "**Inline Question 2** - *True or False*\n",
    "\n",
    "Suppose the overall training loss is defined as the sum of the per-datapoint loss over all training examples. It is possible to add a new datapoint to a training set that would leave the SVM loss unchanged, but this is not the case with the Softmax classifier loss.\n",
    "\n",
    "$\\color{blue}{\\textit Your Answer:}$\n",
    "\n",
    "True\n",
    "\n",
    "$\\color{blue}{\\textit Your Explanation:}$\n",
    "\n",
    "For SVM, if our model predicts scores that is good enough(there's a satisfying space between scores of wrong classes and the correct class), it is possible to get a 0 loss for this datapoint.However, in the case with the Softmax classifier, since the loss is \n",
    "$$L = -\\log \\frac{e^{f_{y_i}}} {\\sum_j e^{f_{y_j}}}$$\n",
    "while \n",
    "$$e^{f_{y_i}} < \\sum_j e^{f_{y_j}}$$ \n",
    "It is impossible for the loss to be 0. Therefore the overall training loss would always increase."
   ]
  },
  {
   "cell_type": "code",
   "execution_count": 8,
   "id": "009f08b9",
   "metadata": {},
   "outputs": [
    {
     "data": {
      "image/png": "[encoded data removed]",
      "text/plain": [
       "<Figure size 1000x800 with 10 Axes>"
      ]
     },
     "metadata": {},
     "output_type": "display_data"
    }
   ],
   "source": [
    "# Visualize the learned weights for each class\n",
    "w = best_softmax.W[:-1,:] # strip out the bias\n",
    "w = w.reshape(32, 32, 3, 10)\n",
    "\n",
    "w_min, w_max = np.min(w), np.max(w)\n",
    "\n",
    "classes = ['plane', 'car', 'bird', 'cat', 'deer', 'dog', 'frog', 'horse', 'ship', 'truck']\n",
    "for i in range(10):\n",
    "    plt.subplot(2, 5, i + 1)\n",
    "    \n",
    "    # Rescale the weights to be between 0 and 255\n",
    "    wimg = 255.0 * (w[:, :, :, i].squeeze() - w_min) / (w_max - w_min)\n",
    "    plt.imshow(wimg.astype('uint8'))\n",
    "    plt.axis('off')\n",
    "    plt.title(classes[i])"
   ]
  }
 ],
 "metadata": {
  "kernelspec": {
   "display_name": "Python 3 (ipykernel)",
   "language": "python",
   "name": "python3"
  },
  "language_info": {
   "codemirror_mode": {
    "name": "ipython",
    "version": 3
   },
   "file_extension": ".py",
   "mimetype": "text/x-python",
   "name": "python",
   "nbconvert_exporter": "python",
   "pygments_lexer": "ipython3",
   "version": "3.9.18"
  }
 },
 "nbformat": 4,
 "nbformat_minor": 5
}
