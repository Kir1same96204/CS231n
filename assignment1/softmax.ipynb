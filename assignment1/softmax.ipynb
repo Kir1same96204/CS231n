{
 "cells": [
  {
   "cell_type": "code",
   "execution_count": null,
   "id": "149d5b7e",
   "metadata": {},
   "outputs": [],
   "source": [
    "# This mounts your Google Drive to the Colab VM.\n",
    "from google.colab import drive\n",
    "drive.mount('/content/drive')\n",
    "\n",
    "# TODO: Enter the foldername in your Drive where you have saved the unzipped\n",
    "# assignment folder, e.g. 'cs231n/assignments/assignment1/'\n",
    "FOLDERNAME = None\n",
    "assert FOLDERNAME is not None, \"[!] Enter the foldername.\"\n",
    "\n",
    "# Now that we've mounted your Drive, this ensures that\n",
    "# the Python interpreter of the Colab VM can load\n",
    "# python files from within it.\n",
    "import sys\n",
    "sys.path.append('/content/drive/My Drive/{}'.format(FOLDERNAME))\n",
    "\n",
    "# This downloads the CIFAR-10 dataset to your Drive\n",
    "# if it doesn't already exist.\n",
    "%cd /content/drive/My\\ Drive/$FOLDERNAME/cs231n/datasets/\n",
    "!bash get_datasets.sh\n",
    "%cd /content/drive/My\\ Drive/$FOLDERNAME"
   ]
  },
  {
   "cell_type": "markdown",
   "id": "5fdfc27e",
   "metadata": {
    "tags": [
     "pdf-title"
    ]
   },
   "source": [
    "# Softmax exercise\n",
    "\n",
    "*Complete and hand in this completed worksheet (including its outputs and any supporting code outside of the worksheet) with your assignment submission. For more details see the [assignments page](http://vision.stanford.edu/teaching/cs231n/assignments.html) on the course website.*\n",
    "\n",
    "This exercise is analogous to the SVM exercise. You will:\n",
    "\n",
    "- implement a fully-vectorized **loss function** for the Softmax classifier\n",
    "- implement the fully-vectorized expression for its **analytic gradient**\n",
    "- **check your implementation** with numerical gradient\n",
    "- use a validation set to **tune the learning rate and regularization** strength\n",
    "- **optimize** the loss function with **SGD**\n",
    "- **visualize** the final learned weights\n"
   ]
  },
  {
   "cell_type": "code",
   "execution_count": 1,
   "id": "ca6cf2d4",
   "metadata": {
    "tags": [
     "pdf-ignore"
    ]
   },
   "outputs": [],
   "source": [
    "import random\n",
    "import numpy as np\n",
    "from cs231n.data_utils import load_CIFAR10\n",
    "import matplotlib.pyplot as plt\n",
    "\n",
    "%matplotlib inline\n",
    "plt.rcParams['figure.figsize'] = (10.0, 8.0) # set default size of plots\n",
    "plt.rcParams['image.interpolation'] = 'nearest'\n",
    "plt.rcParams['image.cmap'] = 'gray'\n",
    "\n",
    "# for auto-reloading extenrnal modules\n",
    "# see http://stackoverflow.com/questions/1907993/autoreload-of-modules-in-ipython\n",
    "%load_ext autoreload\n",
    "%autoreload 2"
   ]
  },
  {
   "cell_type": "code",
   "execution_count": 2,
   "id": "9e9bbbbe",
   "metadata": {
    "tags": [
     "pdf-ignore"
    ]
   },
   "outputs": [
    {
     "name": "stdout",
     "output_type": "stream",
     "text": [
      "Train data shape:  (49000, 3073)\n",
      "Train labels shape:  (49000,)\n",
      "Validation data shape:  (1000, 3073)\n",
      "Validation labels shape:  (1000,)\n",
      "Test data shape:  (1000, 3073)\n",
      "Test labels shape:  (1000,)\n",
      "dev data shape:  (500, 3073)\n",
      "dev labels shape:  (500,)\n"
     ]
    }
   ],
   "source": [
    "def get_CIFAR10_data(num_training=49000, num_validation=1000, num_test=1000, num_dev=500):\n",
    "    \"\"\"\n",
    "    Load the CIFAR-10 dataset from disk and perform preprocessing to prepare\n",
    "    it for the linear classifier. These are the same steps as we used for the\n",
    "    SVM, but condensed to a single function.  \n",
    "    \"\"\"\n",
    "    # Load the raw CIFAR-10 data\n",
    "    cifar10_dir = 'cs231n/datasets/cifar-10-batches-py'\n",
    "    \n",
    "    # Cleaning up variables to prevent loading data multiple times (which may cause memory issue)\n",
    "    try:\n",
    "       del X_train, y_train\n",
    "       del X_test, y_test\n",
    "       print('Clear previously loaded data.')\n",
    "    except:\n",
    "       pass\n",
    "\n",
    "    X_train, y_train, X_test, y_test = load_CIFAR10(cifar10_dir)\n",
    "    \n",
    "    # subsample the data\n",
    "    mask = list(range(num_training, num_training + num_validation))\n",
    "    X_val = X_train[mask]\n",
    "    y_val = y_train[mask]\n",
    "    mask = list(range(num_training))\n",
    "    X_train = X_train[mask]\n",
    "    y_train = y_train[mask]\n",
    "    mask = list(range(num_test))\n",
    "    X_test = X_test[mask]\n",
    "    y_test = y_test[mask]\n",
    "    mask = np.random.choice(num_training, num_dev, replace=False)\n",
    "    X_dev = X_train[mask]\n",
    "    y_dev = y_train[mask]\n",
    "    \n",
    "    # Preprocessing: reshape the image data into rows\n",
    "    X_train = np.reshape(X_train, (X_train.shape[0], -1))\n",
    "    X_val = np.reshape(X_val, (X_val.shape[0], -1))\n",
    "    X_test = np.reshape(X_test, (X_test.shape[0], -1))\n",
    "    X_dev = np.reshape(X_dev, (X_dev.shape[0], -1))\n",
    "    \n",
    "    # Normalize the data: subtract the mean image\n",
    "    mean_image = np.mean(X_train, axis = 0)\n",
    "    X_train -= mean_image\n",
    "    X_val -= mean_image\n",
    "    X_test -= mean_image\n",
    "    X_dev -= mean_image\n",
    "    \n",
    "    # add bias dimension and transform into columns\n",
    "    X_train = np.hstack([X_train, np.ones((X_train.shape[0], 1))])\n",
    "    X_val = np.hstack([X_val, np.ones((X_val.shape[0], 1))])\n",
    "    X_test = np.hstack([X_test, np.ones((X_test.shape[0], 1))])\n",
    "    X_dev = np.hstack([X_dev, np.ones((X_dev.shape[0], 1))])\n",
    "    \n",
    "    return X_train, y_train, X_val, y_val, X_test, y_test, X_dev, y_dev\n",
    "\n",
    "\n",
    "# Invoke the above function to get our data.\n",
    "X_train, y_train, X_val, y_val, X_test, y_test, X_dev, y_dev = get_CIFAR10_data()\n",
    "print('Train data shape: ', X_train.shape)\n",
    "print('Train labels shape: ', y_train.shape)\n",
    "print('Validation data shape: ', X_val.shape)\n",
    "print('Validation labels shape: ', y_val.shape)\n",
    "print('Test data shape: ', X_test.shape)\n",
    "print('Test labels shape: ', y_test.shape)\n",
    "print('dev data shape: ', X_dev.shape)\n",
    "print('dev labels shape: ', y_dev.shape)"
   ]
  },
  {
   "cell_type": "markdown",
   "id": "d4c3fb04",
   "metadata": {},
   "source": [
    "## Softmax Classifier\n",
    "\n",
    "Your code for this section will all be written inside `cs231n/classifiers/softmax.py`.\n"
   ]
  },
  {
   "cell_type": "code",
   "execution_count": 3,
   "id": "25f2e5e1",
   "metadata": {},
   "outputs": [
    {
     "name": "stdout",
     "output_type": "stream",
     "text": [
      "loss: 2.304325\n",
      "sanity check: 2.302585\n"
     ]
    }
   ],
   "source": [
    "# First implement the naive softmax loss function with nested loops.\n",
    "# Open the file cs231n/classifiers/softmax.py and implement the\n",
    "# softmax_loss_naive function.\n",
    "\n",
    "from cs231n.classifiers.softmax import softmax_loss_naive\n",
    "import time\n",
    "\n",
    "# Generate a random softmax weight matrix and use it to compute the loss.\n",
    "W = np.random.randn(3073, 10) * 0.0001\n",
    "loss, grad = softmax_loss_naive(W, X_dev, y_dev, 0.0)\n",
    "\n",
    "# As a rough sanity check, our loss should be something close to -log(0.1).\n",
    "print('loss: %f' % loss)\n",
    "print('sanity check: %f' % (-np.log(0.1)))"
   ]
  },
  {
   "cell_type": "markdown",
   "id": "9e9aaf18",
   "metadata": {
    "tags": [
     "pdf-inline"
    ]
   },
   "source": [
    "**Inline Question 1**\n",
    "\n",
    "Why do we expect our loss to be close to -log(0.1)? Explain briefly.**\n",
    "\n",
    "$\\color{blue}{\\textit Your Answer:}$ \n",
    "\n",
    "The weights are randomly initialized, therefore the possibility of each class should be equal.Since there are 10 classes in total, each should have a possibility of 0.1.\n"
   ]
  },
  {
   "cell_type": "code",
   "execution_count": 4,
   "id": "a8cb3eb1",
   "metadata": {},
   "outputs": [
    {
     "name": "stdout",
     "output_type": "stream",
     "text": [
      "numerical: 1.334956 analytic: 1.334957, relative error: 1.213934e-08\n",
      "numerical: 2.596757 analytic: 2.596757, relative error: 8.579715e-09\n",
      "numerical: -1.004091 analytic: -1.004092, relative error: 1.119177e-07\n",
      "numerical: -0.094176 analytic: -0.094176, relative error: 3.994225e-07\n",
      "numerical: 1.832901 analytic: 1.832901, relative error: 1.517823e-08\n",
      "numerical: -1.398453 analytic: -1.398453, relative error: 1.893599e-08\n",
      "numerical: 1.292675 analytic: 1.292675, relative error: 1.610397e-08\n",
      "numerical: 0.579345 analytic: 0.579344, relative error: 3.143144e-08\n",
      "numerical: 1.712340 analytic: 1.712340, relative error: 6.817533e-09\n",
      "numerical: -0.220273 analytic: -0.220273, relative error: 2.838590e-08\n",
      "numerical: 1.495533 analytic: 1.495532, relative error: 7.253808e-08\n",
      "numerical: -0.324381 analytic: -0.324381, relative error: 1.722461e-07\n",
      "numerical: 0.743095 analytic: 0.743095, relative error: 2.368956e-08\n",
      "numerical: 0.603937 analytic: 0.603937, relative error: 4.637309e-08\n",
      "numerical: 0.289546 analytic: 0.289546, relative error: 4.237064e-08\n",
      "numerical: -1.270154 analytic: -1.270154, relative error: 4.561678e-09\n",
      "numerical: 1.869201 analytic: 1.869201, relative error: 2.911889e-08\n",
      "numerical: 0.164952 analytic: 0.164952, relative error: 1.352693e-07\n",
      "numerical: -0.609629 analytic: -0.609629, relative error: 5.474864e-09\n",
      "numerical: -0.639222 analytic: -0.639222, relative error: 5.431592e-08\n"
     ]
    }
   ],
   "source": [
    "# Complete the implementation of softmax_loss_naive and implement a (naive)\n",
    "# version of the gradient that uses nested loops.\n",
    "loss, grad = softmax_loss_naive(W, X_dev, y_dev, 0.0)\n",
    "\n",
    "# As we did for the SVM, use numeric gradient checking as a debugging tool.\n",
    "# The numeric gradient should be close to the analytic gradient.\n",
    "from cs231n.gradient_check import grad_check_sparse\n",
    "f = lambda w: softmax_loss_naive(w, X_dev, y_dev, 0.0)[0]\n",
    "grad_numerical = grad_check_sparse(f, W, grad, 10)\n",
    "\n",
    "# similar to SVM case, do another gradient check with regularization\n",
    "loss, grad = softmax_loss_naive(W, X_dev, y_dev, 5e1)\n",
    "f = lambda w: softmax_loss_naive(w, X_dev, y_dev, 5e1)[0]\n",
    "grad_numerical = grad_check_sparse(f, W, grad, 10)"
   ]
  },
  {
   "cell_type": "code",
   "execution_count": 5,
   "id": "4a4a81d4",
   "metadata": {},
   "outputs": [
    {
     "name": "stdout",
     "output_type": "stream",
     "text": [
      "naive loss: 2.304325e+00 computed in 0.070234s\n",
      "vectorized loss: 2.304325e+00 computed in 0.004893s\n",
      "Loss difference: 0.000000\n",
      "Gradient difference: 0.000000\n"
     ]
    }
   ],
   "source": [
    "# Now that we have a naive implementation of the softmax loss function and its gradient,\n",
    "# implement a vectorized version in softmax_loss_vectorized.\n",
    "# The two versions should compute the same results, but the vectorized version should be\n",
    "# much faster.\n",
    "tic = time.time()\n",
    "loss_naive, grad_naive = softmax_loss_naive(W, X_dev, y_dev, 0.000005)\n",
    "toc = time.time()\n",
    "print('naive loss: %e computed in %fs' % (loss_naive, toc - tic))\n",
    "\n",
    "from cs231n.classifiers.softmax import softmax_loss_vectorized\n",
    "tic = time.time()\n",
    "loss_vectorized, grad_vectorized = softmax_loss_vectorized(W, X_dev, y_dev, 0.000005)\n",
    "toc = time.time()\n",
    "print('vectorized loss: %e computed in %fs' % (loss_vectorized, toc - tic))\n",
    "\n",
    "# As we did for the SVM, we use the Frobenius norm to compare the two versions\n",
    "# of the gradient.\n",
    "grad_difference = np.linalg.norm(grad_naive - grad_vectorized, ord='fro')\n",
    "print('Loss difference: %f' % np.abs(loss_naive - loss_vectorized))\n",
    "print('Gradient difference: %f' % grad_difference)"
   ]
  },
  {
   "cell_type": "code",
   "execution_count": 6,
   "id": "a3453536",
   "metadata": {
    "tags": [
     "code"
    ],
    "test": "tuning"
   },
   "outputs": [
    {
     "name": "stdout",
     "output_type": "stream",
     "text": [
      "iteration 0 / 1500: loss 466.671983\n",
      "iteration 100 / 1500: loss 226.525694\n",
      "iteration 200 / 1500: loss 110.573917\n",
      "iteration 300 / 1500: loss 54.777154\n",
      "iteration 400 / 1500: loss 27.570800\n",
      "iteration 500 / 1500: loss 14.407667\n",
      "iteration 600 / 1500: loss 8.075264\n",
      "iteration 700 / 1500: loss 4.900866\n",
      "iteration 800 / 1500: loss 3.366627\n",
      "iteration 900 / 1500: loss 2.708832\n",
      "iteration 1000 / 1500: loss 2.365167\n",
      "iteration 1100 / 1500: loss 2.216415\n",
      "iteration 1200 / 1500: loss 2.209355\n",
      "iteration 1300 / 1500: loss 2.027747\n",
      "iteration 1400 / 1500: loss 2.041025\n",
      "iteration 0 / 1500: loss 546.023861\n",
      "iteration 100 / 1500: loss 235.357476\n",
      "iteration 200 / 1500: loss 102.217823\n",
      "iteration 300 / 1500: loss 45.045226\n",
      "iteration 400 / 1500: loss 20.627766\n",
      "iteration 500 / 1500: loss 9.965350\n",
      "iteration 600 / 1500: loss 5.453055\n",
      "iteration 700 / 1500: loss 3.472563\n",
      "iteration 800 / 1500: loss 2.611570\n",
      "iteration 900 / 1500: loss 2.297376\n",
      "iteration 1000 / 1500: loss 2.142366\n",
      "iteration 1100 / 1500: loss 2.147864\n",
      "iteration 1200 / 1500: loss 2.091294\n",
      "iteration 1300 / 1500: loss 2.045255\n",
      "iteration 1400 / 1500: loss 2.034273\n",
      "iteration 0 / 1500: loss 611.575136\n",
      "iteration 100 / 1500: loss 233.654799\n",
      "iteration 200 / 1500: loss 90.280537\n",
      "iteration 300 / 1500: loss 35.711503\n",
      "iteration 400 / 1500: loss 14.856761\n",
      "iteration 500 / 1500: loss 6.964535\n",
      "iteration 600 / 1500: loss 3.975850\n",
      "iteration 700 / 1500: loss 2.755522\n",
      "iteration 800 / 1500: loss 2.354697\n",
      "iteration 900 / 1500: loss 2.182608\n",
      "iteration 1000 / 1500: loss 2.090856\n",
      "iteration 1100 / 1500: loss 2.107920\n",
      "iteration 1200 / 1500: loss 2.059252\n",
      "iteration 1300 / 1500: loss 2.020299\n",
      "iteration 1400 / 1500: loss 2.117593\n",
      "iteration 0 / 1500: loss 467.099525\n",
      "iteration 100 / 1500: loss 255.281692\n",
      "iteration 200 / 1500: loss 140.567041\n",
      "iteration 300 / 1500: loss 77.684477\n",
      "iteration 400 / 1500: loss 43.551568\n",
      "iteration 500 / 1500: loss 24.774168\n",
      "iteration 600 / 1500: loss 14.524379\n",
      "iteration 700 / 1500: loss 8.907068\n",
      "iteration 800 / 1500: loss 5.832039\n",
      "iteration 900 / 1500: loss 4.088490\n",
      "iteration 1000 / 1500: loss 3.177320\n",
      "iteration 1100 / 1500: loss 2.594429\n",
      "iteration 1200 / 1500: loss 2.400076\n",
      "iteration 1300 / 1500: loss 2.253220\n",
      "iteration 1400 / 1500: loss 2.124073\n",
      "iteration 0 / 1500: loss 540.117637\n",
      "iteration 100 / 1500: loss 267.862411\n",
      "iteration 200 / 1500: loss 133.415588\n",
      "iteration 300 / 1500: loss 67.106015\n",
      "iteration 400 / 1500: loss 34.307283\n",
      "iteration 500 / 1500: loss 17.976538\n",
      "iteration 600 / 1500: loss 9.971893\n",
      "iteration 700 / 1500: loss 5.984586\n",
      "iteration 800 / 1500: loss 3.961713\n",
      "iteration 900 / 1500: loss 2.974553\n",
      "iteration 1000 / 1500: loss 2.470347\n",
      "iteration 1100 / 1500: loss 2.270261\n",
      "iteration 1200 / 1500: loss 2.108417\n",
      "iteration 1300 / 1500: loss 2.061795\n",
      "iteration 1400 / 1500: loss 2.057624\n",
      "iteration 0 / 1500: loss 624.864178\n",
      "iteration 100 / 1500: loss 280.665896\n",
      "iteration 200 / 1500: loss 126.461749\n",
      "iteration 300 / 1500: loss 57.732482\n",
      "iteration 400 / 1500: loss 26.964407\n",
      "iteration 500 / 1500: loss 13.228373\n",
      "iteration 600 / 1500: loss 7.048121\n",
      "iteration 700 / 1500: loss 4.359552\n",
      "iteration 800 / 1500: loss 3.069088\n",
      "iteration 900 / 1500: loss 2.489138\n",
      "iteration 1000 / 1500: loss 2.230521\n",
      "iteration 1100 / 1500: loss 2.209475\n",
      "iteration 1200 / 1500: loss 2.117418\n",
      "iteration 1300 / 1500: loss 2.125874\n",
      "iteration 1400 / 1500: loss 2.067050\n",
      "lr 1.000000e-07 reg 1.500000e+04 train accuracy: 0.342367 val accuracy: 0.353000\n",
      "lr 1.000000e-07 reg 1.750000e+04 train accuracy: 0.344020 val accuracy: 0.351000\n",
      "lr 1.000000e-07 reg 2.000000e+04 train accuracy: 0.330571 val accuracy: 0.339000\n",
      "lr 1.200000e-07 reg 1.500000e+04 train accuracy: 0.340000 val accuracy: 0.351000\n",
      "lr 1.200000e-07 reg 1.750000e+04 train accuracy: 0.343612 val accuracy: 0.357000\n",
      "lr 1.200000e-07 reg 2.000000e+04 train accuracy: 0.329939 val accuracy: 0.346000\n",
      "best validation accuracy achieved during cross-validation: 0.357000\n"
     ]
    }
   ],
   "source": [
    "# Use the validation set to tune hyperparameters (regularization strength and\n",
    "# learning rate). You should experiment with different ranges for the learning\n",
    "# rates and regularization strengths; if you are careful you should be able to\n",
    "# get a classification accuracy of over 0.35 on the validation set.\n",
    "\n",
    "from cs231n.classifiers import Softmax\n",
    "results = {}\n",
    "best_val = -1\n",
    "best_softmax = None\n",
    "\n",
    "################################################################################\n",
    "# TODO:                                                                        #\n",
    "# Use the validation set to set the learning rate and regularization strength. #\n",
    "# This should be identical to the validation that you did for the SVM; save    #\n",
    "# the best trained softmax classifer in best_softmax.                          #\n",
    "################################################################################\n",
    "\n",
    "# Provided as a reference. You may or may not want to change these hyperparameters\n",
    "learning_rates = [1.2e-7,1e-7]\n",
    "regularization_strengths = [1.5e4, 1.75e4,2e4]\n",
    "\n",
    "# *****START OF YOUR CODE (DO NOT DELETE/MODIFY THIS LINE)*****\n",
    "\n",
    "for lr in learning_rates:\n",
    "    for reg in regularization_strengths:\n",
    "        smx = Softmax()\n",
    "        smx.train(X_train, y_train, learning_rate=lr, reg=reg, num_iters=1500,verbose = True)\n",
    "        y_train_pred = smx.predict(X_train)\n",
    "        train_acc = np.mean(y_train_pred == y_train)\n",
    "        y_pred = smx.predict(X_val)\n",
    "        accuracy = np.mean(y_pred == y_val)\n",
    "        \n",
    "        results[(lr, reg)] = (train_acc, accuracy)\n",
    "        \n",
    "        if accuracy > best_val:\n",
    "            best_val = accuracy\n",
    "            best_softmax = smx\n",
    "\n",
    "# *****END OF YOUR CODE (DO NOT DELETE/MODIFY THIS LINE)*****\n",
    "    \n",
    "# Print out results.\n",
    "for lr, reg in sorted(results):\n",
    "    train_accuracy, val_accuracy = results[(lr, reg)]\n",
    "    print('lr %e reg %e train accuracy: %f val accuracy: %f' % (\n",
    "                lr, reg, train_accuracy, val_accuracy))\n",
    "    \n",
    "print('best validation accuracy achieved during cross-validation: %f' % best_val)"
   ]
  },
  {
   "cell_type": "code",
   "execution_count": 7,
   "id": "8a1f9db3",
   "metadata": {
    "test": "test"
   },
   "outputs": [
    {
     "name": "stdout",
     "output_type": "stream",
     "text": [
      "softmax on raw pixels final test set accuracy: 0.353000\n"
     ]
    }
   ],
   "source": [
    "# evaluate on test set\n",
    "# Evaluate the best softmax on test set\n",
    "y_test_pred = best_softmax.predict(X_test)\n",
    "test_accuracy = np.mean(y_test == y_test_pred)\n",
    "print('softmax on raw pixels final test set accuracy: %f' % (test_accuracy, ))"
   ]
  },
  {
   "cell_type": "markdown",
   "id": "9121a3c9",
   "metadata": {
    "tags": [
     "pdf-inline"
    ]
   },
   "source": [
    "**Inline Question 2** - *True or False*\n",
    "\n",
    "Suppose the overall training loss is defined as the sum of the per-datapoint loss over all training examples. It is possible to add a new datapoint to a training set that would leave the SVM loss unchanged, but this is not the case with the Softmax classifier loss.\n",
    "\n",
    "$\\color{blue}{\\textit Your Answer:}$\n",
    "\n",
    "True\n",
    "\n",
    "$\\color{blue}{\\textit Your Explanation:}$\n",
    "\n",
    "For SVM, if our model predicts scores that is good enough(there's a satisfying space between scores of wrong classes and the correct class), it is possible to get a 0 loss for this datapoint.However, in the case with the Softmax classifier, since the loss is \n",
    "$$L = -\\log \\frac{e^{f_{y_i}}} {\\sum_j e^{f_{y_j}}}$$\n",
    "while \n",
    "$$e^{f_{y_i}} < \\sum_j e^{f_{y_j}}$$ \n",
    "It is impossible for the loss to be 0. Therefore the overall training loss would always increase."
   ]
  },
  {
   "cell_type": "code",
   "execution_count": 8,
   "id": "009f08b9",
   "metadata": {},
   "outputs": [
    {
     "data": {
      "image/png": "[encoded data removed]",
      "text/plain": [
       "<Figure size 1000x800 with 10 Axes>"
      ]
     },
     "metadata": {},
     "output_type": "display_data"
    }
   ],
   "source": [
    "# Visualize the learned weights for each class\n",
    "w = best_softmax.W[:-1,:] # strip out the bias\n",
    "w = w.reshape(32, 32, 3, 10)\n",
    "\n",
    "w_min, w_max = np.min(w), np.max(w)\n",
    "\n",
    "classes = ['plane', 'car', 'bird', 'cat', 'deer', 'dog', 'frog', 'horse', 'ship', 'truck']\n",
    "for i in range(10):\n",
    "    plt.subplot(2, 5, i + 1)\n",
    "    \n",
    "    # Rescale the weights to be between 0 and 255\n",
    "    wimg = 255.0 * (w[:, :, :, i].squeeze() - w_min) / (w_max - w_min)\n",
    "    plt.imshow(wimg.astype('uint8'))\n",
    "    plt.axis('off')\n",
    "    plt.title(classes[i])"
   ]
  },
  {
   "cell_type": "code",
   "execution_count": null,
   "id": "3569b36b",
   "metadata": {},
   "outputs": [],
   "source": []
  }
 ],
 "metadata": {
  "kernelspec": {
   "display_name": "Python 3 (ipykernel)",
   "language": "python",
   "name": "python3"
  },
  "language_info": {
   "codemirror_mode": {
    "name": "ipython",
    "version": 3
   },
   "file_extension": ".py",
   "mimetype": "text/x-python",
   "name": "python",
   "nbconvert_exporter": "python",
   "pygments_lexer": "ipython3",
   "version": "3.9.18"
  }
 },
 "nbformat": 4,
 "nbformat_minor": 5
}
